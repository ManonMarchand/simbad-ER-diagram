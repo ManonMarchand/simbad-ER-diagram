{
 "cells": [
  {
   "cell_type": "code",
   "execution_count": 2,
   "metadata": {},
   "outputs": [],
   "source": [
    "import pyvo"
   ]
  },
  {
   "cell_type": "code",
   "execution_count": 3,
   "metadata": {},
   "outputs": [],
   "source": [
    "simbadtap = pyvo.dal.TAPService(\"https://simbad.unistra.fr/simbad/sim-tap\")"
   ]
  },
  {
   "cell_type": "code",
   "execution_count": 4,
   "metadata": {},
   "outputs": [],
   "source": [
    "all_links = simbadtap.run_sync(\"select * from TAP_SCHEMA.key_columns\").to_table()"
   ]
  },
  {
   "cell_type": "code",
   "execution_count": 5,
   "metadata": {},
   "outputs": [
    {
     "data": {
      "text/html": [
       "<div><i>Table length=30</i>\n",
       "<table id=\"table139902724926640\" class=\"table-striped table-bordered table-condensed\">\n",
       "<thead><tr><th>key_id</th><th>from_column</th><th>target_column</th></tr></thead>\n",
       "<thead><tr><th>object</th><th>object</th><th>object</th></tr></thead>\n",
       "<tr><td>otypeToBasic</td><td>oidref</td><td>oid</td></tr>\n",
       "<tr><td>idsToBasic</td><td>oidref</td><td>oid</td></tr>\n",
       "<tr><td>otypesToBasic</td><td>oidref</td><td>oid</td></tr>\n",
       "<tr><td>otypedefToOtype</td><td>otype</td><td>otype</td></tr>\n",
       "<tr><td>otypedefToBasic</td><td>otype</td><td>otype</td></tr>\n",
       "<tr><td>identToBasic</td><td>oidref</td><td>oid</td></tr>\n",
       "<tr><td>fluxToBasic</td><td>oidref</td><td>oid</td></tr>\n",
       "<tr><td>fluxToFilter</td><td>filter</td><td>filtername</td></tr>\n",
       "<tr><td>allfluxesToBasic</td><td>oidref</td><td>oid</td></tr>\n",
       "<tr><td>hasRefToRef</td><td>oidbibref</td><td>oidbib</td></tr>\n",
       "<tr><td>...</td><td>...</td><td>...</td></tr>\n",
       "<tr><td>rotToBasic</td><td>oidref</td><td>oid</td></tr>\n",
       "<tr><td>varToBasic</td><td>oidref</td><td>oid</td></tr>\n",
       "<tr><td>velocitiesToBasic</td><td>oidref</td><td>oid</td></tr>\n",
       "<tr><td>xmmToBasic</td><td>oidref</td><td>oid</td></tr>\n",
       "<tr><td>oidparent</td><td>parent</td><td>oid</td></tr>\n",
       "<tr><td>oidchild</td><td>child</td><td>oid</td></tr>\n",
       "<tr><td>herschelToBasic</td><td>oidref</td><td>oid</td></tr>\n",
       "<tr><td>biblioToBasic</td><td>oidref</td><td>oid</td></tr>\n",
       "<tr><td>KeywordsToRef</td><td>oidbibref</td><td>oidbib</td></tr>\n",
       "<tr><td>refToJournal</td><td>journal</td><td>journal</td></tr>\n",
       "</table></div>"
      ],
      "text/plain": [
       "<Table length=30>\n",
       "      key_id      from_column target_column\n",
       "      object         object       object   \n",
       "----------------- ----------- -------------\n",
       "     otypeToBasic      oidref           oid\n",
       "       idsToBasic      oidref           oid\n",
       "    otypesToBasic      oidref           oid\n",
       "  otypedefToOtype       otype         otype\n",
       "  otypedefToBasic       otype         otype\n",
       "     identToBasic      oidref           oid\n",
       "      fluxToBasic      oidref           oid\n",
       "     fluxToFilter      filter    filtername\n",
       " allfluxesToBasic      oidref           oid\n",
       "      hasRefToRef   oidbibref        oidbib\n",
       "              ...         ...           ...\n",
       "       rotToBasic      oidref           oid\n",
       "       varToBasic      oidref           oid\n",
       "velocitiesToBasic      oidref           oid\n",
       "       xmmToBasic      oidref           oid\n",
       "        oidparent      parent           oid\n",
       "         oidchild       child           oid\n",
       "  herschelToBasic      oidref           oid\n",
       "    biblioToBasic      oidref           oid\n",
       "    KeywordsToRef   oidbibref        oidbib\n",
       "     refToJournal     journal       journal"
      ]
     },
     "execution_count": 5,
     "metadata": {},
     "output_type": "execute_result"
    }
   ],
   "source": [
    "all_links"
   ]
  },
  {
   "cell_type": "code",
   "execution_count": 6,
   "metadata": {},
   "outputs": [],
   "source": [
    "columns = simbadtap.run_sync(\"select * from TAP_SCHEMA.columns WHERE table_name NOT LIKE 'TAP_SCHEMA%'\")"
   ]
  },
  {
   "cell_type": "code",
   "execution_count": 7,
   "metadata": {},
   "outputs": [],
   "source": [
    "groups = columns.to_table().group_by('table_name')"
   ]
  },
  {
   "cell_type": "code",
   "execution_count": 13,
   "metadata": {},
   "outputs": [
    {
     "data": {
      "text/html": [
       "<div><i>Table length=30</i>\n",
       "<table id=\"table139902725911600\" class=\"table-striped table-bordered table-condensed\">\n",
       "<thead><tr><th>table_name</th></tr></thead>\n",
       "<thead><tr><th>object</th></tr></thead>\n",
       "<tr><td>allfluxes</td></tr>\n",
       "<tr><td>alltypes</td></tr>\n",
       "<tr><td>author</td></tr>\n",
       "<tr><td>basic</td></tr>\n",
       "<tr><td>biblio</td></tr>\n",
       "<tr><td>cat</td></tr>\n",
       "<tr><td>filter</td></tr>\n",
       "<tr><td>flux</td></tr>\n",
       "<tr><td>h_link</td></tr>\n",
       "<tr><td>has_ref</td></tr>\n",
       "<tr><td>...</td></tr>\n",
       "<tr><td>mesPLX</td></tr>\n",
       "<tr><td>mesPM</td></tr>\n",
       "<tr><td>mesRot</td></tr>\n",
       "<tr><td>mesSpT</td></tr>\n",
       "<tr><td>mesVar</td></tr>\n",
       "<tr><td>mesVelocities</td></tr>\n",
       "<tr><td>mesXmm</td></tr>\n",
       "<tr><td>otypedef</td></tr>\n",
       "<tr><td>otypes</td></tr>\n",
       "<tr><td>ref</td></tr>\n",
       "</table></div>"
      ],
      "text/plain": [
       "<Table length=30>\n",
       "  table_name \n",
       "    object   \n",
       "-------------\n",
       "    allfluxes\n",
       "     alltypes\n",
       "       author\n",
       "        basic\n",
       "       biblio\n",
       "          cat\n",
       "       filter\n",
       "         flux\n",
       "       h_link\n",
       "      has_ref\n",
       "          ...\n",
       "       mesPLX\n",
       "        mesPM\n",
       "       mesRot\n",
       "       mesSpT\n",
       "       mesVar\n",
       "mesVelocities\n",
       "       mesXmm\n",
       "     otypedef\n",
       "       otypes\n",
       "          ref"
      ]
     },
     "execution_count": 13,
     "metadata": {},
     "output_type": "execute_result"
    }
   ],
   "source": [
    "groups.groups.keys"
   ]
  },
  {
   "cell_type": "code",
   "execution_count": 34,
   "metadata": {},
   "outputs": [],
   "source": [
    "with open(\"README.md\", \"w+\") as out:\n",
    "    out.write(\"# Simbad Entity Relation Diagram\\n\")\n",
    "    out.write(\"```mermaid\\nerDiagram\\n\")\n",
    "    for link in all_links['key_id']:\n",
    "        ends = link.split('To')\n",
    "        if len(ends) > 1:\n",
    "            out.write(f\"\"\"    {ends[0]} }}o..o{{ {ends[1]} : \"\"\\n\"\"\")\n",
    "\n",
    "    for key, group in zip(groups.groups.keys, groups.groups):\n",
    "        out.write(f'    {key[\"table_name\"]} {{\\n')\n",
    "        for line in group:\n",
    "            out.write(f\"\"\"        {line[\"datatype\"]} {line[\"column_name\"]} {\"PK\" if line[\"principal\"] else \"\"} \"{line[\"description\"]}\"\\n\"\"\")\n",
    "        out.write(\"}\\n\")\n",
    "    out.write(\"```\")\n"
   ]
  },
  {
   "cell_type": "code",
   "execution_count": 22,
   "metadata": {},
   "outputs": [
    {
     "data": {
      "text/plain": [
       "'allfluxes'"
      ]
     },
     "execution_count": 22,
     "metadata": {},
     "output_type": "execute_result"
    }
   ],
   "source": [
    "key[\"table_name\"]"
   ]
  },
  {
   "cell_type": "code",
   "execution_count": null,
   "metadata": {},
   "outputs": [],
   "source": []
  }
 ],
 "metadata": {
  "kernelspec": {
   "display_name": "cds-tutos-dev",
   "language": "python",
   "name": "python3"
  },
  "language_info": {
   "codemirror_mode": {
    "name": "ipython",
    "version": 3
   },
   "file_extension": ".py",
   "mimetype": "text/x-python",
   "name": "python",
   "nbconvert_exporter": "python",
   "pygments_lexer": "ipython3",
   "version": "3.10.11"
  },
  "orig_nbformat": 4
 },
 "nbformat": 4,
 "nbformat_minor": 2
}
